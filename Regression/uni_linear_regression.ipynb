{
  "nbformat": 4,
  "nbformat_minor": 0,
  "metadata": {
    "colab": {
      "name": "uni_linear_regression.ipynb",
      "provenance": [],
      "collapsed_sections": [],
      "authorship_tag": "ABX9TyOfsdRsOBONPQScgPbNWfrI",
      "include_colab_link": true
    },
    "kernelspec": {
      "name": "python3",
      "display_name": "Python 3"
    },
    "language_info": {
      "name": "python"
    }
  },
  "cells": [
    {
      "cell_type": "markdown",
      "metadata": {
        "id": "view-in-github",
        "colab_type": "text"
      },
      "source": [
        "<a href=\"https://colab.research.google.com/github/alivejojo/ml_implementation/blob/main/Regression/uni_linear_regression.ipynb\" target=\"_parent\"><img src=\"https://colab.research.google.com/assets/colab-badge.svg\" alt=\"Open In Colab\"/></a>"
      ]
    },
    {
      "cell_type": "code",
      "metadata": {
        "id": "MyTnJYLl8R4R"
      },
      "source": [
        "import numpy as np\n",
        "from sklearn.linear_model import LinearRegression\n",
        "import matplotlib.pyplot as plt\n",
        "\n",
        "x=np.array([1,2,3,4,5]).reshape((-1,1))\n",
        "y=np.array([1,3,4,5,5])\n"
      ],
      "execution_count": null,
      "outputs": []
    },
    {
      "cell_type": "markdown",
      "metadata": {
        "id": "mgxeEEW99hLO"
      },
      "source": [
        "`.reshape((tuple)) `: used to change the shape of array.\n",
        "\n",
        "shape = no. of elems in each dimension.\n",
        "\n",
        "```\n",
        "arr = np.array([1, 2, 3, 4, 5, 6, 7, 8, 9, 10, 11, 12])\n",
        "newarr = arr.reshape(4, 3)\n",
        "```\n",
        "this reads along the row and final newarr = has 4 rows and 3 columns\n",
        "\n",
        "```\n",
        "[[ 1  2  3]\n",
        " [ 4  5  6]\n",
        " [ 7  8  9]\n",
        " [10 11 12]]\n",
        "```\n",
        "suppose this was done: \n",
        "```\n",
        "arr = np.array([1, 2, 3, 4, 5, 6, 7, 8, 9, 10, 11, 12])\n",
        "newarr = arr.reshape(2, 3, 2)\n",
        "```\n",
        "tbh there was no need of writing the last \"2\"... that's always the case, if you want to make a n-d array, you only need to specify the size/shape of n-1 dimensions. \n",
        "For the remaining one, you can just parse -1 and it will understand.\n",
        "```\n",
        "[1,2,3,4].reshape(-1,1)\n",
        "```\n",
        "one column toh hoga hi, the rest tum sambhal lo... i.e, one column and 5 rows. \n",
        "\n",
        "\n",
        "\n"
      ]
    },
    {
      "cell_type": "code",
      "metadata": {
        "colab": {
          "base_uri": "https://localhost:8080/"
        },
        "id": "MbypL3rSATm9",
        "outputId": "2ac28067-997e-477f-ae8e-4dda0eb8563a"
      },
      "source": [
        "model=LinearRegression().fit(x,y)\n",
        "R_sq=model.score(x,y)\n",
        "print(R_sq)\n"
      ],
      "execution_count": null,
      "outputs": [
        {
          "output_type": "stream",
          "text": [
            "0.8928571428571428\n"
          ],
          "name": "stdout"
        }
      ]
    },
    {
      "cell_type": "markdown",
      "metadata": {
        "id": "IBjAbkjaLlD2"
      },
      "source": [
        ".fit(x,y) only means to fit x,y and feaure,value. \n",
        "\n",
        "R^2 = coefficient of determination \n",
        "\n",
        "0<=R^2<=1\n",
        "\n",
        "The larger the R^2, better fitting is the model.\n"
      ]
    },
    {
      "cell_type": "code",
      "metadata": {
        "colab": {
          "base_uri": "https://localhost:8080/"
        },
        "id": "dXn7P1SIMUv9",
        "outputId": "af69a70d-5362-4592-a03d-f5ff75d02471"
      },
      "source": [
        "theta0 = model.intercept_\n",
        "theta1= model.coef_\n",
        "print(\"theta0 = \",theta0, \"theta1 = \",theta1)\n"
      ],
      "execution_count": null,
      "outputs": [
        {
          "output_type": "stream",
          "text": [
            "theta0 =  0.600000000000001 theta1 =  [1.]\n"
          ],
          "name": "stdout"
        }
      ]
    },
    {
      "cell_type": "code",
      "metadata": {
        "colab": {
          "base_uri": "https://localhost:8080/"
        },
        "id": "6a5gt04RsD7k",
        "outputId": "a0a6a9f7-55e2-4f5c-9a3f-8830f65a8e46"
      },
      "source": [
        "y_pred=model.predict(x)\n",
        "print(y_pred)"
      ],
      "execution_count": null,
      "outputs": [
        {
          "output_type": "stream",
          "text": [
            "[1.6 2.6 3.6 4.6 5.6]\n"
          ],
          "name": "stdout"
        }
      ]
    },
    {
      "cell_type": "code",
      "metadata": {
        "colab": {
          "base_uri": "https://localhost:8080/"
        },
        "id": "7epFFhpssXBH",
        "outputId": "62b87deb-a84a-4a6b-cfaa-a147d553bcf0"
      },
      "source": [
        "#2nd way: by using line eqn\n",
        "y_pred=theta0+(x.flatten()*theta1)\n",
        "print(y_pred)"
      ],
      "execution_count": null,
      "outputs": [
        {
          "output_type": "stream",
          "text": [
            "[1.6 2.6 3.6 4.6 5.6]\n"
          ],
          "name": "stdout"
        }
      ]
    },
    {
      "cell_type": "code",
      "metadata": {
        "colab": {
          "base_uri": "https://localhost:8080/",
          "height": 281
        },
        "id": "DYx1DOYi6dJ_",
        "outputId": "2b52114e-d91d-435f-fca7-08208588cf92"
      },
      "source": [
        "plt.scatter(x,y,color=\"blue\")\n",
        "#plotting the line from linear regression\n",
        "plt.plot(x,y_pred)"
      ],
      "execution_count": null,
      "outputs": [
        {
          "output_type": "execute_result",
          "data": {
            "text/plain": [
              "[<matplotlib.lines.Line2D at 0x7f80212c8910>]"
            ]
          },
          "metadata": {
            "tags": []
          },
          "execution_count": 15
        },
        {
          "output_type": "display_data",
          "data": {
            "image/png": "[encoded data removed]",
            "text/plain": [
              "<Figure size 432x288 with 1 Axes>"
            ]
          },
          "metadata": {
            "tags": [],
            "needs_background": "light"
          }
        }
      ]
    },
    {
      "cell_type": "markdown",
      "metadata": {
        "id": "0k6GC_6Tsvi9"
      },
      "source": [
        ".flatten() nahi toh : \n",
        "\n",
        "in 2nd way you get a 2d list because: theta1 is a list. \n"
      ]
    }
  ]
}